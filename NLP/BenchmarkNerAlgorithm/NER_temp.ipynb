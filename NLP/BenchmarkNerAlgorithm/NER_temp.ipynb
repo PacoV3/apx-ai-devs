{
 "cells": [
  {
   "cell_type": "code",
   "execution_count": 1,
   "metadata": {},
   "outputs": [],
   "source": [
    "import pandas as pd\n",
    "import spacy\n",
    "from spacy import displacy\n",
    "import os\n",
    "import re\n",
    "import string\n",
    "import en_core_web_sm\n",
    "from deep_translator import GoogleTranslator \n",
    "nlp = en_core_web_sm.load()"
   ]
  },
  {
   "cell_type": "code",
   "execution_count": 2,
   "metadata": {},
   "outputs": [
    {
     "data": {
      "text/plain": [
       "['api',\n",
       " 'rest',\n",
       " 'shell',\n",
       " 'cli',\n",
       " 'cronjobs',\n",
       " 'python',\n",
       " 'java',\n",
       " 'scala',\n",
       " 'go',\n",
       " 'sql']"
      ]
     },
     "execution_count": 2,
     "metadata": {},
     "output_type": "execute_result"
    }
   ],
   "source": [
    "JobSkills = pd.read_excel(\"data/ResumeSkill_preprocessed.xlsx\")\n",
    "# lower characters and add spaces to the side to spot the complete words\n",
    "# DE_JobSkills = (\" \" + JobSkills[\"Data_Engineer\"].dropna().str.lower() + \" \").to_list()\n",
    "DE_JobSkills = JobSkills[\"Data_Engineer\"].dropna().str.lower().to_list()\n",
    "DE_JobSkills[0:10]"
   ]
  },
  {
   "cell_type": "code",
   "execution_count": 3,
   "metadata": {},
   "outputs": [],
   "source": [
    "# bumeran_scraped_data_22-06-2022_1129.json\n",
    "JSON_FILEPATH = \"../../Bumeran/scraped_data/bumeran_scraped_data_27-05-2022_1638.json\"\n",
    "json_df = pd.read_json(JSON_FILEPATH, orient='records')"
   ]
  },
  {
   "cell_type": "code",
   "execution_count": 4,
   "metadata": {},
   "outputs": [
    {
     "data": {
      "text/html": [
       "<div>\n",
       "<style scoped>\n",
       "    .dataframe tbody tr th:only-of-type {\n",
       "        vertical-align: middle;\n",
       "    }\n",
       "\n",
       "    .dataframe tbody tr th {\n",
       "        vertical-align: top;\n",
       "    }\n",
       "\n",
       "    .dataframe thead th {\n",
       "        text-align: right;\n",
       "    }\n",
       "</style>\n",
       "<table border=\"1\" class=\"dataframe\">\n",
       "  <thead>\n",
       "    <tr style=\"text-align: right;\">\n",
       "      <th></th>\n",
       "      <th>keyWords</th>\n",
       "      <th>title_role</th>\n",
       "      <th>description</th>\n",
       "      <th>date_published</th>\n",
       "      <th>schema</th>\n",
       "      <th>consulted_datetime</th>\n",
       "      <th>source</th>\n",
       "      <th>company_rate</th>\n",
       "      <th>salary</th>\n",
       "      <th>company</th>\n",
       "      <th>city</th>\n",
       "    </tr>\n",
       "  </thead>\n",
       "  <tbody>\n",
       "    <tr>\n",
       "      <th>0</th>\n",
       "      <td>[desarrollador]</td>\n",
       "      <td>Desarrollador de Negocios - CDMX</td>\n",
       "      <td>¡ÚNETE A NUESTRO EQUIPO!\\nDESARROLLADOR DE NEG...</td>\n",
       "      <td>Publicado hace 7 días</td>\n",
       "      <td>Híbrido</td>\n",
       "      <td>27/05/2022, 16:34</td>\n",
       "      <td>https://www.bumeran.com.mx/empleos/desarrollad...</td>\n",
       "      <td>NaN</td>\n",
       "      <td>De $30,000 a $50,000 por mes</td>\n",
       "      <td>Confidencial</td>\n",
       "      <td>Ciudad de México, Distrito Federal, Mexico</td>\n",
       "    </tr>\n",
       "    <tr>\n",
       "      <th>1</th>\n",
       "      <td>[desarrollador]</td>\n",
       "      <td>Desarrollador TI</td>\n",
       "      <td>Desarrollador TI\\nIngeniería en sistemas compu...</td>\n",
       "      <td>Publicado hace más de 15 días</td>\n",
       "      <td>Presencial</td>\n",
       "      <td>27/05/2022, 16:34</td>\n",
       "      <td>https://www.bumeran.com.mx/empleos/desarrollad...</td>\n",
       "      <td>NaN</td>\n",
       "      <td>No especificado</td>\n",
       "      <td>ENLACE LABORAL CONSULTORES RRHH S.C.</td>\n",
       "      <td>Toluca de Lerdo, Estado de México, Mexico</td>\n",
       "    </tr>\n",
       "    <tr>\n",
       "      <th>2</th>\n",
       "      <td>[desarrollador]</td>\n",
       "      <td>Desarrollador Jr.</td>\n",
       "      <td>Desarrollador Jr.\\nIngeniería en sistemas comp...</td>\n",
       "      <td>Publicado hace más de 15 días</td>\n",
       "      <td>Presencial</td>\n",
       "      <td>27/05/2022, 16:35</td>\n",
       "      <td>https://www.bumeran.com.mx/empleos/desarrollad...</td>\n",
       "      <td>NaN</td>\n",
       "      <td>No especificado</td>\n",
       "      <td>ENLACE LABORAL CONSULTORES RRHH S.C.</td>\n",
       "      <td>Toluca de Lerdo, Estado de México, Mexico</td>\n",
       "    </tr>\n",
       "    <tr>\n",
       "      <th>3</th>\n",
       "      <td>[desarrollador]</td>\n",
       "      <td>Desarrollador Java - Backend</td>\n",
       "      <td>Nosotros:\\nSomos la empresa más reconocida en ...</td>\n",
       "      <td>Publicado hace más de 15 días</td>\n",
       "      <td>Presencial</td>\n",
       "      <td>27/05/2022, 16:35</td>\n",
       "      <td>https://www.bumeran.com.mx/empleos/desarrollad...</td>\n",
       "      <td>NaN</td>\n",
       "      <td>No especificado</td>\n",
       "      <td>TRUPER SERVICIOS SA DE CV</td>\n",
       "      <td>Miguel Hidalgo, Distrito Federal, Mexico</td>\n",
       "    </tr>\n",
       "    <tr>\n",
       "      <th>4</th>\n",
       "      <td>[desarrollador]</td>\n",
       "      <td>Desarrollador y Diseñador Web</td>\n",
       "      <td>Requisitos\\nLicenciatura terminada\\nConocimien...</td>\n",
       "      <td>Publicado hace más de 15 días</td>\n",
       "      <td>Presencial</td>\n",
       "      <td>27/05/2022, 16:35</td>\n",
       "      <td>https://www.bumeran.com.mx/empleos/desarrollad...</td>\n",
       "      <td>NaN</td>\n",
       "      <td>No especificado</td>\n",
       "      <td>ASOCIACI?N MEXICANA DE DISTRIBUIDORES DE MAQUI...</td>\n",
       "      <td>Miguel Hidalgo, Distrito Federal, Mexico</td>\n",
       "    </tr>\n",
       "  </tbody>\n",
       "</table>\n",
       "</div>"
      ],
      "text/plain": [
       "          keyWords                        title_role  \\\n",
       "0  [desarrollador]  Desarrollador de Negocios - CDMX   \n",
       "1  [desarrollador]                  Desarrollador TI   \n",
       "2  [desarrollador]                 Desarrollador Jr.   \n",
       "3  [desarrollador]      Desarrollador Java - Backend   \n",
       "4  [desarrollador]     Desarrollador y Diseñador Web   \n",
       "\n",
       "                                         description  \\\n",
       "0  ¡ÚNETE A NUESTRO EQUIPO!\\nDESARROLLADOR DE NEG...   \n",
       "1  Desarrollador TI\\nIngeniería en sistemas compu...   \n",
       "2  Desarrollador Jr.\\nIngeniería en sistemas comp...   \n",
       "3  Nosotros:\\nSomos la empresa más reconocida en ...   \n",
       "4  Requisitos\\nLicenciatura terminada\\nConocimien...   \n",
       "\n",
       "                  date_published      schema consulted_datetime  \\\n",
       "0          Publicado hace 7 días     Híbrido  27/05/2022, 16:34   \n",
       "1  Publicado hace más de 15 días  Presencial  27/05/2022, 16:34   \n",
       "2  Publicado hace más de 15 días  Presencial  27/05/2022, 16:35   \n",
       "3  Publicado hace más de 15 días  Presencial  27/05/2022, 16:35   \n",
       "4  Publicado hace más de 15 días  Presencial  27/05/2022, 16:35   \n",
       "\n",
       "                                              source  company_rate  \\\n",
       "0  https://www.bumeran.com.mx/empleos/desarrollad...           NaN   \n",
       "1  https://www.bumeran.com.mx/empleos/desarrollad...           NaN   \n",
       "2  https://www.bumeran.com.mx/empleos/desarrollad...           NaN   \n",
       "3  https://www.bumeran.com.mx/empleos/desarrollad...           NaN   \n",
       "4  https://www.bumeran.com.mx/empleos/desarrollad...           NaN   \n",
       "\n",
       "                         salary  \\\n",
       "0  De $30,000 a $50,000 por mes   \n",
       "1               No especificado   \n",
       "2               No especificado   \n",
       "3               No especificado   \n",
       "4               No especificado   \n",
       "\n",
       "                                             company  \\\n",
       "0                                       Confidencial   \n",
       "1               ENLACE LABORAL CONSULTORES RRHH S.C.   \n",
       "2               ENLACE LABORAL CONSULTORES RRHH S.C.   \n",
       "3                          TRUPER SERVICIOS SA DE CV   \n",
       "4  ASOCIACI?N MEXICANA DE DISTRIBUIDORES DE MAQUI...   \n",
       "\n",
       "                                         city  \n",
       "0  Ciudad de México, Distrito Federal, Mexico  \n",
       "1   Toluca de Lerdo, Estado de México, Mexico  \n",
       "2   Toluca de Lerdo, Estado de México, Mexico  \n",
       "3    Miguel Hidalgo, Distrito Federal, Mexico  \n",
       "4    Miguel Hidalgo, Distrito Federal, Mexico  "
      ]
     },
     "execution_count": 4,
     "metadata": {},
     "output_type": "execute_result"
    }
   ],
   "source": [
    "json_df.head()"
   ]
  },
  {
   "cell_type": "code",
   "execution_count": 5,
   "metadata": {},
   "outputs": [],
   "source": [
    "rows_containing_salary = json_df.loc[json_df[\"description\"].str.contains(\"Salario\")]"
   ]
  },
  {
   "cell_type": "code",
   "execution_count": 6,
   "metadata": {},
   "outputs": [],
   "source": [
    "json_df['blob_en'] = None"
   ]
  },
  {
   "cell_type": "code",
   "execution_count": 7,
   "metadata": {},
   "outputs": [
    {
     "ename": "SSLError",
     "evalue": "HTTPSConnectionPool(host='translate.google.com', port=443): Max retries exceeded with url: /m?tl=en&sl=es&q=%C2%A1%C3%9ANETE+A+NUESTRO+EQUIPO%21%0ADESARROLLADOR+DE+NEGOCIOS%0AREQUISITOS%3A%0A%C2%B7+Experiencia+m%C3%ADnima+de+3+a+5+a%C3%B1os+en+ventas+de+productos+tangibles+e+intangibles+%28Preferentemente%29%0A%C2%B7+Escolaridad%3A+Licenciatura+en+Actuar%C3%ADa%2C+Finanzas%2C+Relaciones+P%C3%BAblicas%2C+Relaciones+Internacionales%2C+Administraci%C3%B3n%2C+Derecho%2C+MBA%2C+Ingenier%C3%ADas+afines+%28con+c%C3%A9dula+profesional%29%0A%C2%B7+Tolerancia+a+la+frustraci%C3%B3n%0A%C2%B7+Alto+nivel+de+energ%C3%ADa%0A%C2%B7+Enfoque+a+objetivos+y+metas%0A%C2%B7+Habilidad+financiera%0A%C2%B7+Gusto+por+las+ventas%0A%C2%B7+Poder+de+negociaci%C3%B3n%0A%C2%B7+Atenci%C3%B3n+a+clientes%0A%C2%B7+Facilidad+de+palabra%0AOFRECEMOS%3A%0A%C2%B7+Horario+Flexible+%28Lunes+a+Viernes%29%0A%C2%B7+Excelente+nivel+y+calidad+de+vida%0A%C2%B7+Altos+ingresos+econ%C3%B3micos%0A%C2%B7+Plan+de+carrera+creciente%0A%C2%B7+Estabilidad+laboral%0A%C2%B7+Oportunidad+de+Certificaci%C3%B3n+ante+la+CNSF%0A%C2%B7+Capacitaci%C3%B3n+constante+y+otras+certificaciones%0A%C2%B7+Bonos+mensuales%2C+trimestrales+y+anuales+%2835%25+al+50%25%29%0A%C2%B7+Seminarios%2C+viajes%2C+incentivos+y+m%C3%A1s%0A%C2%B7+Crecimiento+a+corto+y+mediano+plazo%0A%C2%B7+Prestaciones+de+ley%0AFUNCIONES%3A%0A%C2%B7+Prospecci%C3%B3n+de+clientes%0A%C2%B7+Seguimiento+a+nuevos+negocios%0A%C2%B7+Vinculaci%C3%B3n+comercial%0A%C2%B7+Atenci%C3%B3n+a+clientes%0A%C2%B7+Venta%0A%C2%B7+Post+venta%0A%C2%B7+Seguimiento+a+cartera (Caused by SSLError(SSLCertVerificationError(1, '[SSL: CERTIFICATE_VERIFY_FAILED] certificate verify failed: unable to get local issuer certificate (_ssl.c:1131)')))",
     "output_type": "error",
     "traceback": [
      "\u001b[0;31m---------------------------------------------------------------------------\u001b[0m",
      "\u001b[0;31mSSLCertVerificationError\u001b[0m                  Traceback (most recent call last)",
      "File \u001b[0;32m~/code/apx-ai-devs/venv/lib/python3.8/site-packages/urllib3/connectionpool.py:703\u001b[0m, in \u001b[0;36mHTTPConnectionPool.urlopen\u001b[0;34m(self, method, url, body, headers, retries, redirect, assert_same_host, timeout, pool_timeout, release_conn, chunked, body_pos, **response_kw)\u001b[0m\n\u001b[1;32m    702\u001b[0m \u001b[39m# Make the request on the httplib connection object.\u001b[39;00m\n\u001b[0;32m--> 703\u001b[0m httplib_response \u001b[39m=\u001b[39m \u001b[39mself\u001b[39;49m\u001b[39m.\u001b[39;49m_make_request(\n\u001b[1;32m    704\u001b[0m     conn,\n\u001b[1;32m    705\u001b[0m     method,\n\u001b[1;32m    706\u001b[0m     url,\n\u001b[1;32m    707\u001b[0m     timeout\u001b[39m=\u001b[39;49mtimeout_obj,\n\u001b[1;32m    708\u001b[0m     body\u001b[39m=\u001b[39;49mbody,\n\u001b[1;32m    709\u001b[0m     headers\u001b[39m=\u001b[39;49mheaders,\n\u001b[1;32m    710\u001b[0m     chunked\u001b[39m=\u001b[39;49mchunked,\n\u001b[1;32m    711\u001b[0m )\n\u001b[1;32m    713\u001b[0m \u001b[39m# If we're going to release the connection in ``finally:``, then\u001b[39;00m\n\u001b[1;32m    714\u001b[0m \u001b[39m# the response doesn't need to know about the connection. Otherwise\u001b[39;00m\n\u001b[1;32m    715\u001b[0m \u001b[39m# it will also try to release it and we'll have a double-release\u001b[39;00m\n\u001b[1;32m    716\u001b[0m \u001b[39m# mess.\u001b[39;00m\n",
      "File \u001b[0;32m~/code/apx-ai-devs/venv/lib/python3.8/site-packages/urllib3/connectionpool.py:386\u001b[0m, in \u001b[0;36mHTTPConnectionPool._make_request\u001b[0;34m(self, conn, method, url, timeout, chunked, **httplib_request_kw)\u001b[0m\n\u001b[1;32m    385\u001b[0m \u001b[39mtry\u001b[39;00m:\n\u001b[0;32m--> 386\u001b[0m     \u001b[39mself\u001b[39;49m\u001b[39m.\u001b[39;49m_validate_conn(conn)\n\u001b[1;32m    387\u001b[0m \u001b[39mexcept\u001b[39;00m (SocketTimeout, BaseSSLError) \u001b[39mas\u001b[39;00m e:\n\u001b[1;32m    388\u001b[0m     \u001b[39m# Py2 raises this as a BaseSSLError, Py3 raises it as socket timeout.\u001b[39;00m\n",
      "File \u001b[0;32m~/code/apx-ai-devs/venv/lib/python3.8/site-packages/urllib3/connectionpool.py:1042\u001b[0m, in \u001b[0;36mHTTPSConnectionPool._validate_conn\u001b[0;34m(self, conn)\u001b[0m\n\u001b[1;32m   1041\u001b[0m \u001b[39mif\u001b[39;00m \u001b[39mnot\u001b[39;00m \u001b[39mgetattr\u001b[39m(conn, \u001b[39m\"\u001b[39m\u001b[39msock\u001b[39m\u001b[39m\"\u001b[39m, \u001b[39mNone\u001b[39;00m):  \u001b[39m# AppEngine might not have  `.sock`\u001b[39;00m\n\u001b[0;32m-> 1042\u001b[0m     conn\u001b[39m.\u001b[39;49mconnect()\n\u001b[1;32m   1044\u001b[0m \u001b[39mif\u001b[39;00m \u001b[39mnot\u001b[39;00m conn\u001b[39m.\u001b[39mis_verified:\n",
      "File \u001b[0;32m~/code/apx-ai-devs/venv/lib/python3.8/site-packages/urllib3/connection.py:419\u001b[0m, in \u001b[0;36mHTTPSConnection.connect\u001b[0;34m(self)\u001b[0m\n\u001b[1;32m    417\u001b[0m     context\u001b[39m.\u001b[39mload_default_certs()\n\u001b[0;32m--> 419\u001b[0m \u001b[39mself\u001b[39m\u001b[39m.\u001b[39msock \u001b[39m=\u001b[39m ssl_wrap_socket(\n\u001b[1;32m    420\u001b[0m     sock\u001b[39m=\u001b[39;49mconn,\n\u001b[1;32m    421\u001b[0m     keyfile\u001b[39m=\u001b[39;49m\u001b[39mself\u001b[39;49m\u001b[39m.\u001b[39;49mkey_file,\n\u001b[1;32m    422\u001b[0m     certfile\u001b[39m=\u001b[39;49m\u001b[39mself\u001b[39;49m\u001b[39m.\u001b[39;49mcert_file,\n\u001b[1;32m    423\u001b[0m     key_password\u001b[39m=\u001b[39;49m\u001b[39mself\u001b[39;49m\u001b[39m.\u001b[39;49mkey_password,\n\u001b[1;32m    424\u001b[0m     ca_certs\u001b[39m=\u001b[39;49m\u001b[39mself\u001b[39;49m\u001b[39m.\u001b[39;49mca_certs,\n\u001b[1;32m    425\u001b[0m     ca_cert_dir\u001b[39m=\u001b[39;49m\u001b[39mself\u001b[39;49m\u001b[39m.\u001b[39;49mca_cert_dir,\n\u001b[1;32m    426\u001b[0m     ca_cert_data\u001b[39m=\u001b[39;49m\u001b[39mself\u001b[39;49m\u001b[39m.\u001b[39;49mca_cert_data,\n\u001b[1;32m    427\u001b[0m     server_hostname\u001b[39m=\u001b[39;49mserver_hostname,\n\u001b[1;32m    428\u001b[0m     ssl_context\u001b[39m=\u001b[39;49mcontext,\n\u001b[1;32m    429\u001b[0m     tls_in_tls\u001b[39m=\u001b[39;49mtls_in_tls,\n\u001b[1;32m    430\u001b[0m )\n\u001b[1;32m    432\u001b[0m \u001b[39m# If we're using all defaults and the connection\u001b[39;00m\n\u001b[1;32m    433\u001b[0m \u001b[39m# is TLSv1 or TLSv1.1 we throw a DeprecationWarning\u001b[39;00m\n\u001b[1;32m    434\u001b[0m \u001b[39m# for the host.\u001b[39;00m\n",
      "File \u001b[0;32m~/code/apx-ai-devs/venv/lib/python3.8/site-packages/urllib3/util/ssl_.py:449\u001b[0m, in \u001b[0;36mssl_wrap_socket\u001b[0;34m(sock, keyfile, certfile, cert_reqs, ca_certs, server_hostname, ssl_version, ciphers, ssl_context, ca_cert_dir, key_password, ca_cert_data, tls_in_tls)\u001b[0m\n\u001b[1;32m    448\u001b[0m \u001b[39mif\u001b[39;00m send_sni:\n\u001b[0;32m--> 449\u001b[0m     ssl_sock \u001b[39m=\u001b[39m _ssl_wrap_socket_impl(\n\u001b[1;32m    450\u001b[0m         sock, context, tls_in_tls, server_hostname\u001b[39m=\u001b[39;49mserver_hostname\n\u001b[1;32m    451\u001b[0m     )\n\u001b[1;32m    452\u001b[0m \u001b[39melse\u001b[39;00m:\n",
      "File \u001b[0;32m~/code/apx-ai-devs/venv/lib/python3.8/site-packages/urllib3/util/ssl_.py:493\u001b[0m, in \u001b[0;36m_ssl_wrap_socket_impl\u001b[0;34m(sock, ssl_context, tls_in_tls, server_hostname)\u001b[0m\n\u001b[1;32m    492\u001b[0m \u001b[39mif\u001b[39;00m server_hostname:\n\u001b[0;32m--> 493\u001b[0m     \u001b[39mreturn\u001b[39;00m ssl_context\u001b[39m.\u001b[39;49mwrap_socket(sock, server_hostname\u001b[39m=\u001b[39;49mserver_hostname)\n\u001b[1;32m    494\u001b[0m \u001b[39melse\u001b[39;00m:\n",
      "File \u001b[0;32m/usr/lib/python3.8/ssl.py:500\u001b[0m, in \u001b[0;36mSSLContext.wrap_socket\u001b[0;34m(self, sock, server_side, do_handshake_on_connect, suppress_ragged_eofs, server_hostname, session)\u001b[0m\n\u001b[1;32m    494\u001b[0m \u001b[39mdef\u001b[39;00m \u001b[39mwrap_socket\u001b[39m(\u001b[39mself\u001b[39m, sock, server_side\u001b[39m=\u001b[39m\u001b[39mFalse\u001b[39;00m,\n\u001b[1;32m    495\u001b[0m                 do_handshake_on_connect\u001b[39m=\u001b[39m\u001b[39mTrue\u001b[39;00m,\n\u001b[1;32m    496\u001b[0m                 suppress_ragged_eofs\u001b[39m=\u001b[39m\u001b[39mTrue\u001b[39;00m,\n\u001b[1;32m    497\u001b[0m                 server_hostname\u001b[39m=\u001b[39m\u001b[39mNone\u001b[39;00m, session\u001b[39m=\u001b[39m\u001b[39mNone\u001b[39;00m):\n\u001b[1;32m    498\u001b[0m     \u001b[39m# SSLSocket class handles server_hostname encoding before it calls\u001b[39;00m\n\u001b[1;32m    499\u001b[0m     \u001b[39m# ctx._wrap_socket()\u001b[39;00m\n\u001b[0;32m--> 500\u001b[0m     \u001b[39mreturn\u001b[39;00m \u001b[39mself\u001b[39;49m\u001b[39m.\u001b[39;49msslsocket_class\u001b[39m.\u001b[39;49m_create(\n\u001b[1;32m    501\u001b[0m         sock\u001b[39m=\u001b[39;49msock,\n\u001b[1;32m    502\u001b[0m         server_side\u001b[39m=\u001b[39;49mserver_side,\n\u001b[1;32m    503\u001b[0m         do_handshake_on_connect\u001b[39m=\u001b[39;49mdo_handshake_on_connect,\n\u001b[1;32m    504\u001b[0m         suppress_ragged_eofs\u001b[39m=\u001b[39;49msuppress_ragged_eofs,\n\u001b[1;32m    505\u001b[0m         server_hostname\u001b[39m=\u001b[39;49mserver_hostname,\n\u001b[1;32m    506\u001b[0m         context\u001b[39m=\u001b[39;49m\u001b[39mself\u001b[39;49m,\n\u001b[1;32m    507\u001b[0m         session\u001b[39m=\u001b[39;49msession\n\u001b[1;32m    508\u001b[0m     )\n",
      "File \u001b[0;32m/usr/lib/python3.8/ssl.py:1040\u001b[0m, in \u001b[0;36mSSLSocket._create\u001b[0;34m(cls, sock, server_side, do_handshake_on_connect, suppress_ragged_eofs, server_hostname, context, session)\u001b[0m\n\u001b[1;32m   1039\u001b[0m             \u001b[39mraise\u001b[39;00m \u001b[39mValueError\u001b[39;00m(\u001b[39m\"\u001b[39m\u001b[39mdo_handshake_on_connect should not be specified for non-blocking sockets\u001b[39m\u001b[39m\"\u001b[39m)\n\u001b[0;32m-> 1040\u001b[0m         \u001b[39mself\u001b[39;49m\u001b[39m.\u001b[39;49mdo_handshake()\n\u001b[1;32m   1041\u001b[0m \u001b[39mexcept\u001b[39;00m (\u001b[39mOSError\u001b[39;00m, \u001b[39mValueError\u001b[39;00m):\n",
      "File \u001b[0;32m/usr/lib/python3.8/ssl.py:1309\u001b[0m, in \u001b[0;36mSSLSocket.do_handshake\u001b[0;34m(self, block)\u001b[0m\n\u001b[1;32m   1308\u001b[0m         \u001b[39mself\u001b[39m\u001b[39m.\u001b[39msettimeout(\u001b[39mNone\u001b[39;00m)\n\u001b[0;32m-> 1309\u001b[0m     \u001b[39mself\u001b[39;49m\u001b[39m.\u001b[39;49m_sslobj\u001b[39m.\u001b[39;49mdo_handshake()\n\u001b[1;32m   1310\u001b[0m \u001b[39mfinally\u001b[39;00m:\n",
      "\u001b[0;31mSSLCertVerificationError\u001b[0m: [SSL: CERTIFICATE_VERIFY_FAILED] certificate verify failed: unable to get local issuer certificate (_ssl.c:1131)",
      "\nDuring handling of the above exception, another exception occurred:\n",
      "\u001b[0;31mMaxRetryError\u001b[0m                             Traceback (most recent call last)",
      "File \u001b[0;32m~/code/apx-ai-devs/venv/lib/python3.8/site-packages/requests/adapters.py:489\u001b[0m, in \u001b[0;36mHTTPAdapter.send\u001b[0;34m(self, request, stream, timeout, verify, cert, proxies)\u001b[0m\n\u001b[1;32m    488\u001b[0m \u001b[39mif\u001b[39;00m \u001b[39mnot\u001b[39;00m chunked:\n\u001b[0;32m--> 489\u001b[0m     resp \u001b[39m=\u001b[39m conn\u001b[39m.\u001b[39;49murlopen(\n\u001b[1;32m    490\u001b[0m         method\u001b[39m=\u001b[39;49mrequest\u001b[39m.\u001b[39;49mmethod,\n\u001b[1;32m    491\u001b[0m         url\u001b[39m=\u001b[39;49murl,\n\u001b[1;32m    492\u001b[0m         body\u001b[39m=\u001b[39;49mrequest\u001b[39m.\u001b[39;49mbody,\n\u001b[1;32m    493\u001b[0m         headers\u001b[39m=\u001b[39;49mrequest\u001b[39m.\u001b[39;49mheaders,\n\u001b[1;32m    494\u001b[0m         redirect\u001b[39m=\u001b[39;49m\u001b[39mFalse\u001b[39;49;00m,\n\u001b[1;32m    495\u001b[0m         assert_same_host\u001b[39m=\u001b[39;49m\u001b[39mFalse\u001b[39;49;00m,\n\u001b[1;32m    496\u001b[0m         preload_content\u001b[39m=\u001b[39;49m\u001b[39mFalse\u001b[39;49;00m,\n\u001b[1;32m    497\u001b[0m         decode_content\u001b[39m=\u001b[39;49m\u001b[39mFalse\u001b[39;49;00m,\n\u001b[1;32m    498\u001b[0m         retries\u001b[39m=\u001b[39;49m\u001b[39mself\u001b[39;49m\u001b[39m.\u001b[39;49mmax_retries,\n\u001b[1;32m    499\u001b[0m         timeout\u001b[39m=\u001b[39;49mtimeout,\n\u001b[1;32m    500\u001b[0m     )\n\u001b[1;32m    502\u001b[0m \u001b[39m# Send the request.\u001b[39;00m\n\u001b[1;32m    503\u001b[0m \u001b[39melse\u001b[39;00m:\n",
      "File \u001b[0;32m~/code/apx-ai-devs/venv/lib/python3.8/site-packages/urllib3/connectionpool.py:787\u001b[0m, in \u001b[0;36mHTTPConnectionPool.urlopen\u001b[0;34m(self, method, url, body, headers, retries, redirect, assert_same_host, timeout, pool_timeout, release_conn, chunked, body_pos, **response_kw)\u001b[0m\n\u001b[1;32m    785\u001b[0m     e \u001b[39m=\u001b[39m ProtocolError(\u001b[39m\"\u001b[39m\u001b[39mConnection aborted.\u001b[39m\u001b[39m\"\u001b[39m, e)\n\u001b[0;32m--> 787\u001b[0m retries \u001b[39m=\u001b[39m retries\u001b[39m.\u001b[39;49mincrement(\n\u001b[1;32m    788\u001b[0m     method, url, error\u001b[39m=\u001b[39;49me, _pool\u001b[39m=\u001b[39;49m\u001b[39mself\u001b[39;49m, _stacktrace\u001b[39m=\u001b[39;49msys\u001b[39m.\u001b[39;49mexc_info()[\u001b[39m2\u001b[39;49m]\n\u001b[1;32m    789\u001b[0m )\n\u001b[1;32m    790\u001b[0m retries\u001b[39m.\u001b[39msleep()\n",
      "File \u001b[0;32m~/code/apx-ai-devs/venv/lib/python3.8/site-packages/urllib3/util/retry.py:592\u001b[0m, in \u001b[0;36mRetry.increment\u001b[0;34m(self, method, url, response, error, _pool, _stacktrace)\u001b[0m\n\u001b[1;32m    591\u001b[0m \u001b[39mif\u001b[39;00m new_retry\u001b[39m.\u001b[39mis_exhausted():\n\u001b[0;32m--> 592\u001b[0m     \u001b[39mraise\u001b[39;00m MaxRetryError(_pool, url, error \u001b[39mor\u001b[39;00m ResponseError(cause))\n\u001b[1;32m    594\u001b[0m log\u001b[39m.\u001b[39mdebug(\u001b[39m\"\u001b[39m\u001b[39mIncremented Retry for (url=\u001b[39m\u001b[39m'\u001b[39m\u001b[39m%s\u001b[39;00m\u001b[39m'\u001b[39m\u001b[39m): \u001b[39m\u001b[39m%r\u001b[39;00m\u001b[39m\"\u001b[39m, url, new_retry)\n",
      "\u001b[0;31mMaxRetryError\u001b[0m: HTTPSConnectionPool(host='translate.google.com', port=443): Max retries exceeded with url: /m?tl=en&sl=es&q=%C2%A1%C3%9ANETE+A+NUESTRO+EQUIPO%21%0ADESARROLLADOR+DE+NEGOCIOS%0AREQUISITOS%3A%0A%C2%B7+Experiencia+m%C3%ADnima+de+3+a+5+a%C3%B1os+en+ventas+de+productos+tangibles+e+intangibles+%28Preferentemente%29%0A%C2%B7+Escolaridad%3A+Licenciatura+en+Actuar%C3%ADa%2C+Finanzas%2C+Relaciones+P%C3%BAblicas%2C+Relaciones+Internacionales%2C+Administraci%C3%B3n%2C+Derecho%2C+MBA%2C+Ingenier%C3%ADas+afines+%28con+c%C3%A9dula+profesional%29%0A%C2%B7+Tolerancia+a+la+frustraci%C3%B3n%0A%C2%B7+Alto+nivel+de+energ%C3%ADa%0A%C2%B7+Enfoque+a+objetivos+y+metas%0A%C2%B7+Habilidad+financiera%0A%C2%B7+Gusto+por+las+ventas%0A%C2%B7+Poder+de+negociaci%C3%B3n%0A%C2%B7+Atenci%C3%B3n+a+clientes%0A%C2%B7+Facilidad+de+palabra%0AOFRECEMOS%3A%0A%C2%B7+Horario+Flexible+%28Lunes+a+Viernes%29%0A%C2%B7+Excelente+nivel+y+calidad+de+vida%0A%C2%B7+Altos+ingresos+econ%C3%B3micos%0A%C2%B7+Plan+de+carrera+creciente%0A%C2%B7+Estabilidad+laboral%0A%C2%B7+Oportunidad+de+Certificaci%C3%B3n+ante+la+CNSF%0A%C2%B7+Capacitaci%C3%B3n+constante+y+otras+certificaciones%0A%C2%B7+Bonos+mensuales%2C+trimestrales+y+anuales+%2835%25+al+50%25%29%0A%C2%B7+Seminarios%2C+viajes%2C+incentivos+y+m%C3%A1s%0A%C2%B7+Crecimiento+a+corto+y+mediano+plazo%0A%C2%B7+Prestaciones+de+ley%0AFUNCIONES%3A%0A%C2%B7+Prospecci%C3%B3n+de+clientes%0A%C2%B7+Seguimiento+a+nuevos+negocios%0A%C2%B7+Vinculaci%C3%B3n+comercial%0A%C2%B7+Atenci%C3%B3n+a+clientes%0A%C2%B7+Venta%0A%C2%B7+Post+venta%0A%C2%B7+Seguimiento+a+cartera (Caused by SSLError(SSLCertVerificationError(1, '[SSL: CERTIFICATE_VERIFY_FAILED] certificate verify failed: unable to get local issuer certificate (_ssl.c:1131)')))",
      "\nDuring handling of the above exception, another exception occurred:\n",
      "\u001b[0;31mSSLError\u001b[0m                                  Traceback (most recent call last)",
      "Cell \u001b[0;32mIn[7], line 22\u001b[0m\n\u001b[1;32m     20\u001b[0m     json_df[\u001b[39m'\u001b[39m\u001b[39mblob_en\u001b[39m\u001b[39m'\u001b[39m][\u001b[39m0\u001b[39m] \u001b[39m=\u001b[39m translated_news\n\u001b[1;32m     21\u001b[0m \u001b[39melse\u001b[39;00m:\n\u001b[0;32m---> 22\u001b[0m     translated_news \u001b[39m=\u001b[39m GoogleTranslator(source\u001b[39m=\u001b[39;49m\u001b[39m'\u001b[39;49m\u001b[39mes\u001b[39;49m\u001b[39m'\u001b[39;49m, target\u001b[39m=\u001b[39;49m\u001b[39m'\u001b[39;49m\u001b[39men\u001b[39;49m\u001b[39m'\u001b[39;49m)\u001b[39m.\u001b[39;49mtranslate(text)\n\u001b[1;32m     23\u001b[0m     json_df[\u001b[39m'\u001b[39m\u001b[39mblob_en\u001b[39m\u001b[39m'\u001b[39m][\u001b[39m0\u001b[39m] \u001b[39m=\u001b[39m translated_news\n",
      "File \u001b[0;32m~/code/apx-ai-devs/venv/lib/python3.8/site-packages/deep_translator/google.py:67\u001b[0m, in \u001b[0;36mGoogleTranslator.translate\u001b[0;34m(self, text, **kwargs)\u001b[0m\n\u001b[1;32m     64\u001b[0m \u001b[39mif\u001b[39;00m \u001b[39mself\u001b[39m\u001b[39m.\u001b[39mpayload_key:\n\u001b[1;32m     65\u001b[0m     \u001b[39mself\u001b[39m\u001b[39m.\u001b[39m_url_params[\u001b[39mself\u001b[39m\u001b[39m.\u001b[39mpayload_key] \u001b[39m=\u001b[39m text\n\u001b[0;32m---> 67\u001b[0m response \u001b[39m=\u001b[39m requests\u001b[39m.\u001b[39;49mget(\n\u001b[1;32m     68\u001b[0m     \u001b[39mself\u001b[39;49m\u001b[39m.\u001b[39;49m_base_url, params\u001b[39m=\u001b[39;49m\u001b[39mself\u001b[39;49m\u001b[39m.\u001b[39;49m_url_params, proxies\u001b[39m=\u001b[39;49m\u001b[39mself\u001b[39;49m\u001b[39m.\u001b[39;49mproxies\n\u001b[1;32m     69\u001b[0m )\n\u001b[1;32m     70\u001b[0m \u001b[39mif\u001b[39;00m response\u001b[39m.\u001b[39mstatus_code \u001b[39m==\u001b[39m \u001b[39m429\u001b[39m:\n\u001b[1;32m     71\u001b[0m     \u001b[39mraise\u001b[39;00m TooManyRequests()\n",
      "File \u001b[0;32m~/code/apx-ai-devs/venv/lib/python3.8/site-packages/requests/api.py:73\u001b[0m, in \u001b[0;36mget\u001b[0;34m(url, params, **kwargs)\u001b[0m\n\u001b[1;32m     62\u001b[0m \u001b[39mdef\u001b[39;00m \u001b[39mget\u001b[39m(url, params\u001b[39m=\u001b[39m\u001b[39mNone\u001b[39;00m, \u001b[39m*\u001b[39m\u001b[39m*\u001b[39mkwargs):\n\u001b[1;32m     63\u001b[0m \u001b[39m    \u001b[39m\u001b[39mr\u001b[39m\u001b[39m\"\"\"Sends a GET request.\u001b[39;00m\n\u001b[1;32m     64\u001b[0m \n\u001b[1;32m     65\u001b[0m \u001b[39m    :param url: URL for the new :class:`Request` object.\u001b[39;00m\n\u001b[0;32m   (...)\u001b[0m\n\u001b[1;32m     70\u001b[0m \u001b[39m    :rtype: requests.Response\u001b[39;00m\n\u001b[1;32m     71\u001b[0m \u001b[39m    \"\"\"\u001b[39;00m\n\u001b[0;32m---> 73\u001b[0m     \u001b[39mreturn\u001b[39;00m request(\u001b[39m\"\u001b[39;49m\u001b[39mget\u001b[39;49m\u001b[39m\"\u001b[39;49m, url, params\u001b[39m=\u001b[39;49mparams, \u001b[39m*\u001b[39;49m\u001b[39m*\u001b[39;49mkwargs)\n",
      "File \u001b[0;32m~/code/apx-ai-devs/venv/lib/python3.8/site-packages/requests/api.py:59\u001b[0m, in \u001b[0;36mrequest\u001b[0;34m(method, url, **kwargs)\u001b[0m\n\u001b[1;32m     55\u001b[0m \u001b[39m# By using the 'with' statement we are sure the session is closed, thus we\u001b[39;00m\n\u001b[1;32m     56\u001b[0m \u001b[39m# avoid leaving sockets open which can trigger a ResourceWarning in some\u001b[39;00m\n\u001b[1;32m     57\u001b[0m \u001b[39m# cases, and look like a memory leak in others.\u001b[39;00m\n\u001b[1;32m     58\u001b[0m \u001b[39mwith\u001b[39;00m sessions\u001b[39m.\u001b[39mSession() \u001b[39mas\u001b[39;00m session:\n\u001b[0;32m---> 59\u001b[0m     \u001b[39mreturn\u001b[39;00m session\u001b[39m.\u001b[39;49mrequest(method\u001b[39m=\u001b[39;49mmethod, url\u001b[39m=\u001b[39;49murl, \u001b[39m*\u001b[39;49m\u001b[39m*\u001b[39;49mkwargs)\n",
      "File \u001b[0;32m~/code/apx-ai-devs/venv/lib/python3.8/site-packages/requests/sessions.py:587\u001b[0m, in \u001b[0;36mSession.request\u001b[0;34m(self, method, url, params, data, headers, cookies, files, auth, timeout, allow_redirects, proxies, hooks, stream, verify, cert, json)\u001b[0m\n\u001b[1;32m    582\u001b[0m send_kwargs \u001b[39m=\u001b[39m {\n\u001b[1;32m    583\u001b[0m     \u001b[39m\"\u001b[39m\u001b[39mtimeout\u001b[39m\u001b[39m\"\u001b[39m: timeout,\n\u001b[1;32m    584\u001b[0m     \u001b[39m\"\u001b[39m\u001b[39mallow_redirects\u001b[39m\u001b[39m\"\u001b[39m: allow_redirects,\n\u001b[1;32m    585\u001b[0m }\n\u001b[1;32m    586\u001b[0m send_kwargs\u001b[39m.\u001b[39mupdate(settings)\n\u001b[0;32m--> 587\u001b[0m resp \u001b[39m=\u001b[39m \u001b[39mself\u001b[39;49m\u001b[39m.\u001b[39;49msend(prep, \u001b[39m*\u001b[39;49m\u001b[39m*\u001b[39;49msend_kwargs)\n\u001b[1;32m    589\u001b[0m \u001b[39mreturn\u001b[39;00m resp\n",
      "File \u001b[0;32m~/code/apx-ai-devs/venv/lib/python3.8/site-packages/requests/sessions.py:701\u001b[0m, in \u001b[0;36mSession.send\u001b[0;34m(self, request, **kwargs)\u001b[0m\n\u001b[1;32m    698\u001b[0m start \u001b[39m=\u001b[39m preferred_clock()\n\u001b[1;32m    700\u001b[0m \u001b[39m# Send the request\u001b[39;00m\n\u001b[0;32m--> 701\u001b[0m r \u001b[39m=\u001b[39m adapter\u001b[39m.\u001b[39;49msend(request, \u001b[39m*\u001b[39;49m\u001b[39m*\u001b[39;49mkwargs)\n\u001b[1;32m    703\u001b[0m \u001b[39m# Total elapsed time of the request (approximately)\u001b[39;00m\n\u001b[1;32m    704\u001b[0m elapsed \u001b[39m=\u001b[39m preferred_clock() \u001b[39m-\u001b[39m start\n",
      "File \u001b[0;32m~/code/apx-ai-devs/venv/lib/python3.8/site-packages/requests/adapters.py:563\u001b[0m, in \u001b[0;36mHTTPAdapter.send\u001b[0;34m(self, request, stream, timeout, verify, cert, proxies)\u001b[0m\n\u001b[1;32m    559\u001b[0m         \u001b[39mraise\u001b[39;00m ProxyError(e, request\u001b[39m=\u001b[39mrequest)\n\u001b[1;32m    561\u001b[0m     \u001b[39mif\u001b[39;00m \u001b[39misinstance\u001b[39m(e\u001b[39m.\u001b[39mreason, _SSLError):\n\u001b[1;32m    562\u001b[0m         \u001b[39m# This branch is for urllib3 v1.22 and later.\u001b[39;00m\n\u001b[0;32m--> 563\u001b[0m         \u001b[39mraise\u001b[39;00m SSLError(e, request\u001b[39m=\u001b[39mrequest)\n\u001b[1;32m    565\u001b[0m     \u001b[39mraise\u001b[39;00m \u001b[39mConnectionError\u001b[39;00m(e, request\u001b[39m=\u001b[39mrequest)\n\u001b[1;32m    567\u001b[0m \u001b[39mexcept\u001b[39;00m ClosedPoolError \u001b[39mas\u001b[39;00m e:\n",
      "\u001b[0;31mSSLError\u001b[0m: HTTPSConnectionPool(host='translate.google.com', port=443): Max retries exceeded with url: /m?tl=en&sl=es&q=%C2%A1%C3%9ANETE+A+NUESTRO+EQUIPO%21%0ADESARROLLADOR+DE+NEGOCIOS%0AREQUISITOS%3A%0A%C2%B7+Experiencia+m%C3%ADnima+de+3+a+5+a%C3%B1os+en+ventas+de+productos+tangibles+e+intangibles+%28Preferentemente%29%0A%C2%B7+Escolaridad%3A+Licenciatura+en+Actuar%C3%ADa%2C+Finanzas%2C+Relaciones+P%C3%BAblicas%2C+Relaciones+Internacionales%2C+Administraci%C3%B3n%2C+Derecho%2C+MBA%2C+Ingenier%C3%ADas+afines+%28con+c%C3%A9dula+profesional%29%0A%C2%B7+Tolerancia+a+la+frustraci%C3%B3n%0A%C2%B7+Alto+nivel+de+energ%C3%ADa%0A%C2%B7+Enfoque+a+objetivos+y+metas%0A%C2%B7+Habilidad+financiera%0A%C2%B7+Gusto+por+las+ventas%0A%C2%B7+Poder+de+negociaci%C3%B3n%0A%C2%B7+Atenci%C3%B3n+a+clientes%0A%C2%B7+Facilidad+de+palabra%0AOFRECEMOS%3A%0A%C2%B7+Horario+Flexible+%28Lunes+a+Viernes%29%0A%C2%B7+Excelente+nivel+y+calidad+de+vida%0A%C2%B7+Altos+ingresos+econ%C3%B3micos%0A%C2%B7+Plan+de+carrera+creciente%0A%C2%B7+Estabilidad+laboral%0A%C2%B7+Oportunidad+de+Certificaci%C3%B3n+ante+la+CNSF%0A%C2%B7+Capacitaci%C3%B3n+constante+y+otras+certificaciones%0A%C2%B7+Bonos+mensuales%2C+trimestrales+y+anuales+%2835%25+al+50%25%29%0A%C2%B7+Seminarios%2C+viajes%2C+incentivos+y+m%C3%A1s%0A%C2%B7+Crecimiento+a+corto+y+mediano+plazo%0A%C2%B7+Prestaciones+de+ley%0AFUNCIONES%3A%0A%C2%B7+Prospecci%C3%B3n+de+clientes%0A%C2%B7+Seguimiento+a+nuevos+negocios%0A%C2%B7+Vinculaci%C3%B3n+comercial%0A%C2%B7+Atenci%C3%B3n+a+clientes%0A%C2%B7+Venta%0A%C2%B7+Post+venta%0A%C2%B7+Seguimiento+a+cartera (Caused by SSLError(SSLCertVerificationError(1, '[SSL: CERTIFICATE_VERIFY_FAILED] certificate verify failed: unable to get local issuer certificate (_ssl.c:1131)')))"
     ]
    }
   ],
   "source": [
    "text = json_df['description'][0]\n",
    "\n",
    "if len(text) >= 5000:\n",
    "    # sentences = text.split(sep = '.')\n",
    "    text = text.replace('\\n', ' ')\n",
    "    sentences = re.split(r'(?<=\\D)\\.(?=.)|(?<=\\d)\\.(?=\\D)', text)\n",
    "\n",
    "    # filter_object = filter(lambda x: x != \"\", sentences)\n",
    "    filter_object = filter(lambda x: len(x) > 2, sentences)\n",
    "    sentences = list(filter_object)\n",
    "\n",
    "    filter_object = filter(lambda x: bool(re.search('[a-zA-Z]', x)), sentences) \n",
    "    sentences = list(filter_object)\n",
    "\n",
    "    filter_object = filter(lambda x: (sum(c.isalpha() for c in x)) > 2, sentences)\n",
    "    sentences = list(filter_object)\n",
    "\n",
    "    translated = GoogleTranslator('es', 'en').translate_batch(sentences)\n",
    "    translated_news = '. '.join(translated)\n",
    "    json_df['blob_en'][0] = translated_news\n",
    "else:\n",
    "    translated_news = GoogleTranslator(source='es', target='en').translate(text)\n",
    "    json_df['blob_en'][0] = translated_news"
   ]
  },
  {
   "cell_type": "code",
   "execution_count": 124,
   "metadata": {},
   "outputs": [
    {
     "data": {
      "text/plain": [
       "\"We are a 100% Mexican company with more than 25 years of experience in connecting talent with companies.\\n\\n\\nAnalytics Data Engineer in Monterrey, Guadalajara and AguasCalientes\\nThe ideal candidate is a motivated individual who is excited about making an impact to a user base of over 20k that is ready to operate in a fast-paced environment and can clearly demonstrate a thirst for learning and mastering emerging technologies, processes and tools in the analyticsspace. This person should take initiative and shouldn't be an order taker. They should enjoy optimizing data models to industry standards.\\n\\n\\nKey Requirements:\\n\\n1. Enterprise level SSAS / Tabular DAX Modeling experience\\n2. Experience with SQL Querying\\n3. Experienced with agile processes and methodologies\\n4. Experience with Production Models & troubleshooting skills\\n5. Ability to demonstrate understanding of business requirements & business concepts\\n\\nFollowing skills are not required but are a plus :\\n\\n6. Experience working with a team using Git\\n7. Spark/Databricks Experience\\n8. Experience with Build/Release Pipelines in Azure DevOps\\n\\nAdvanced English\\n\\n\\n Salary: $5200000 - $15000000 MXN\\n\\nFor now the position is remote but based on client's requirement, after Pandemic resource might required to be onsite to either one of these 3 locations. Guadalajara, Monterrey and .\\n\\nOur Ideal Candidate:\\n-Advanced English\\n\\nLocation: Cuajimalpa de Morelos, Federal District\\nDisability: This vacancy is suitable for people with disabilities.\\n\\n\\nThe selection process is carried out through AIRA - a recruitment platform designed to improve your application experience.\\n\\nTo apply you just need:\\n1. Apply for the offer\\n2. Check your mail\\n3. Enter AIRA and answer the questions and/or tests requested\\n\\nThen, if we see that your profile fits what we are looking for, we will contact you by mail (through AIRA) to continue to the face-to-face stage.\\nREF:15-8711-1648165198\""
      ]
     },
     "execution_count": 124,
     "metadata": {},
     "output_type": "execute_result"
    }
   ],
   "source": [
    "SAMPLE_TEXT = json_df['blob_en'][0]\n",
    "SAMPLE_TEXT"
   ]
  },
  {
   "cell_type": "code",
   "execution_count": 125,
   "metadata": {},
   "outputs": [
    {
     "data": {
      "text/plain": [
       "'we are a 100  mexican company with more than 25 years of experience in connecting talent with companies    analytics data engineer in monterrey  guadalajara and aguascalientes the ideal candidate is a motivated individual who is excited about making an impact to a user base of over 20k that is ready to operate in a fast paced environment and can clearly demonstrate a thirst for learning and mastering emerging technologies  processes and tools in the analyticsspace  this person should take initiative and shouldn t be an order taker  they should enjoy optimizing data models to industry standards    key requirements   1  enterprise level ssas   tabular dax modeling experience 2  experience with sql querying 3  experienced with agile processes and methodologies 4  experience with production models   troubleshooting skills 5  ability to demonstrate understanding of business requirements   business concepts  following skills are not required but are a plus    6  experience working with a team using git 7  spark databricks experience 8  experience with build release pipelines in azure devops  advanced english    salary  $5200000   $15000000 mxn  for now the position is remote but based on client s requirement  after pandemic resource might required to be onsite to either one of these 3 locations  guadalajara  monterrey and    our ideal candidate   advanced english  location  cuajimalpa de morelos  federal district disability  this vacancy is suitable for people with disabilities    the selection process is carried out through aira   a recruitment platform designed to improve your application experience   to apply you just need  1  apply for the offer 2  check your mail 3  enter aira and answer the questions and or tests requested  then  if we see that your profile fits what we are looking for  we will contact you by mail  through aira  to continue to the face to face stage  ref 15 8711 1648165198'"
      ]
     },
     "execution_count": 125,
     "metadata": {},
     "output_type": "execute_result"
    }
   ],
   "source": [
    "# Data Cleaning\n",
    "\n",
    "def clean_text_round1(text):\n",
    "    '''Make text lowercase, remove text in square brackets, remove punctuation and remove words containing numbers.'''\n",
    "    text = text.lower()\n",
    "    # text = re.sub('\\[.*?¿\\]\\%', ' ', text)\n",
    "    text = re.sub(r'[^\\w\\s$]', ' ', text) \n",
    "    # text = re.sub('[%s]' % re.escape(string.punctuation), ' ', text)\n",
    "    # text = re.sub('\\w*\\d\\w*', '', text)\n",
    "    text = re.sub('[‘’“”…«»]', '', text)\n",
    "    text = re.sub('\\n', ' ', text)\n",
    "    return text\n",
    " \n",
    "data_clean = clean_text_round1(SAMPLE_TEXT)\n",
    "data_clean"
   ]
  },
  {
   "cell_type": "code",
   "execution_count": 128,
   "metadata": {},
   "outputs": [
    {
     "data": {
      "text/plain": [
       "{'api': [],\n",
       " 'rest': [],\n",
       " 'shell': [],\n",
       " 'cli': [],\n",
       " 'cronjobs': [],\n",
       " 'python': [],\n",
       " 'java': [],\n",
       " 'scala': [],\n",
       " 'go': [],\n",
       " 'sql': [(700, 705)],\n",
       " 'acid': [],\n",
       " 'cap': [],\n",
       " 'oltp': [],\n",
       " 'olap': [],\n",
       " 'mysql': [],\n",
       " 'postgresql': [],\n",
       " 'mariadb': [],\n",
       " 'amazon aurora': [],\n",
       " 'mongodb': [],\n",
       " 'elasticsearch': [],\n",
       " 'apache couchdb': [],\n",
       " 'azure cosmosdb': [],\n",
       " 'apache cassandra': [],\n",
       " 'apache hbase': [],\n",
       " 'google bigtable': [],\n",
       " 'neo4j': [],\n",
       " 'amazon neptune': [],\n",
       " 'redis': [],\n",
       " 'memcached': [],\n",
       " 'amazon dynamodb': [],\n",
       " 'snowflake': [],\n",
       " 'presto': [],\n",
       " 'apache hive': [],\n",
       " 'apache impala': [],\n",
       " 'amazon redshift': [],\n",
       " 'azure synapse': [],\n",
       " 'clickhouse': [],\n",
       " 'apache hadoop': [],\n",
       " 'hdfs': [],\n",
       " 'mapreduce': [],\n",
       " 'amazon mr': [],\n",
       " 'google dataproc': [],\n",
       " 'azure data lake': [],\n",
       " 'apache pig': [],\n",
       " 'apache arrow': [],\n",
       " 'data build tool': [],\n",
       " 'apache spark': [],\n",
       " 'apache beam': [],\n",
       " 'apache flink': [],\n",
       " 'apache nifi': [],\n",
       " 'apache kafka': [],\n",
       " 'apache storm': [],\n",
       " 'apache samza': [],\n",
       " 'amazon kinesis': [],\n",
       " 'amazon sns and sqs': [],\n",
       " 'google pubsub': [],\n",
       " 'azure services bus': [],\n",
       " 'rabbitmq': [],\n",
       " 'apache airflow': [],\n",
       " 'google composer': [],\n",
       " 'apache oozie': [],\n",
       " 'luigi': [],\n",
       " 'prometheus': [],\n",
       " 'datadog': [],\n",
       " 'sentry': [],\n",
       " 'statsd': [],\n",
       " 'http/https': [],\n",
       " 'ssh': [],\n",
       " 'tcp': [],\n",
       " 'ip': [],\n",
       " 'dns': [],\n",
       " 'docker': [],\n",
       " 'lxc': [],\n",
       " 'kubernetes': [],\n",
       " 'docker swarm': [],\n",
       " 'apache mesos': [],\n",
       " 'gke': [],\n",
       " 'terraform': [],\n",
       " 'pulumi': [],\n",
       " 'aws cdk': [],\n",
       " 'github actions': [],\n",
       " 'jenkins': [],\n",
       " 'active directory': [],\n",
       " 'azure active directory': [],\n",
       " 'ssas': [(642, 648)],\n",
       " 'ssis': [],\n",
       " 'data factory': [],\n",
       " 'sql server': []}"
      ]
     },
     "execution_count": 128,
     "metadata": {},
     "output_type": "execute_result"
    }
   ],
   "source": [
    "# { jobSkill:[x.span() for x in re.finditer(jobSkill,SAMPLE_TEXT.lower())]  for jobSkill in DE_JobSkills} \n",
    "JobSkillsLoc = { jobSkill:[x.span() for x in re.finditer(\" \"+ jobSkill + \" \",data_clean)] for jobSkill in DE_JobSkills} \n",
    "JobSkillsLoc"
   ]
  },
  {
   "cell_type": "code",
   "execution_count": 107,
   "metadata": {},
   "outputs": [],
   "source": [
    "# nlp = spacy.load(\"es_core_news_sm\")\n",
    "nlp = en_core_web_sm.load()\n",
    "\n",
    "# skill = \"XPATH\" \n",
    "# [skill[:],\"Skill\"]\n",
    "\n",
    "# {\"SKILL\",\"\"}\n",
    "# Vales de despensa, \"Beneficios\""
   ]
  },
  {
   "cell_type": "code",
   "execution_count": 111,
   "metadata": {},
   "outputs": [],
   "source": [
    "doc = nlp(rows_containing_salary[\"description\"].iloc[0])"
   ]
  },
  {
   "cell_type": "code",
   "execution_count": 112,
   "metadata": {},
   "outputs": [
    {
     "name": "stdout",
     "output_type": "stream",
     "text": [
      "100% PERCENT\n",
      "de experiencia PERSON\n",
      "con ORG\n",
      "Analytics Data Engineer ORG\n",
      "Monterrey GPE\n",
      "Guadalajara GPE\n",
      "20k DATE\n",
      "SSAS / ORG\n",
      "2 CARDINAL\n",
      "SQL Querying ORG\n",
      "3 CARDINAL\n",
      "4 CARDINAL\n",
      "Production Models ORG\n",
      "5 CARDINAL\n",
      "Git ORG\n",
      "7 CARDINAL\n",
      "Spark/Databricks Experience ORG\n",
      "8 CARDINAL\n",
      "English LANGUAGE\n",
      "MXN  \n",
      "\n",
      " ORG\n",
      "one CARDINAL\n",
      "3 CARDINAL\n",
      "Guadalajara GPE\n",
      "Monterrey PERSON\n",
      "English LANGUAGE\n",
      "Cuajimalpa de Morelos PERSON\n",
      "Distrito Federal ORG\n",
      "apta para personas PERSON\n",
      "El proceso de selección ORG\n",
      "diseñado para PERSON\n",
      "tu experiencia de PERSON\n",
      "1 CARDINAL\n",
      "2 CARDINAL\n",
      "Revisar tu mail PERSON\n",
      "3 CARDINAL\n",
      "vemos que PERSON\n",
      "tu perfil PERSON\n",
      "estamos NORP\n",
      "la GPE\n"
     ]
    }
   ],
   "source": [
    "for ent in doc.ents:\n",
    "    print(ent.text,ent.label_)"
   ]
  }
 ],
 "metadata": {
  "interpreter": {
   "hash": "a6c709b79dbce7a5e8d32b3dbd4ee5af952751da183d01f4f9c87648309826e0"
  },
  "kernelspec": {
   "display_name": "Python 3.8.13 ('gvenv')",
   "language": "python",
   "name": "python3"
  },
  "language_info": {
   "codemirror_mode": {
    "name": "ipython",
    "version": 3
   },
   "file_extension": ".py",
   "mimetype": "text/x-python",
   "name": "python",
   "nbconvert_exporter": "python",
   "pygments_lexer": "ipython3",
   "version": "3.8.10"
  },
  "orig_nbformat": 4
 },
 "nbformat": 4,
 "nbformat_minor": 2
}
