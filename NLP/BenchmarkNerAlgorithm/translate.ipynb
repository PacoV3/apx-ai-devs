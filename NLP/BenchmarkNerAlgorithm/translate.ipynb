{
 "cells": [
  {
   "attachments": {},
   "cell_type": "markdown",
   "metadata": {},
   "source": [
    "# Notebook for text translation using Python "
   ]
  },
  {
   "attachments": {},
   "cell_type": "markdown",
   "metadata": {},
   "source": [
    "## Test Dataset"
   ]
  },
  {
   "attachments": {},
   "cell_type": "markdown",
   "metadata": {},
   "source": [
    "| Spanish Word | English Translation |\n",
    "| --- | --- |\t\n",
    "| pan | bread |\n",
    "| morado | purple |\n",
    "| policia | police |\n",
    "| cometa | kite |\n",
    "| pasta de dientes | toothpaste |"
   ]
  },
  {
   "attachments": {},
   "cell_type": "markdown",
   "metadata": {},
   "source": [
    "| Spanish Phrase | English Translation |\n",
    "| --- | --- |\t\n",
    "| Eso no es para mí | That’s not for me |\n",
    "| Los coches rojos están detrás de mí | The red cars are behind me |\n",
    "| El agua está muy caliente | The water’s very hot |\n",
    "| No te pongas esa corbata | Don’t wear that tie |\n",
    "| Poca gente tiene lo que tú tienes | Few people have what you have |"
   ]
  },
  {
   "cell_type": "code",
   "execution_count": 7,
   "metadata": {},
   "outputs": [],
   "source": [
    "def test_translation(dataset, translation_results):\n",
    "    for test, translation in zip(dataset, translation_results):\n",
    "        if len(translation.split()) > 1:\n",
    "            if translation.replace(\".\", \"\") == test[1]:\n",
    "                print(f\"Succes on test {test} result: '{translation}'\")\n",
    "            else:\n",
    "                print(f\"Different result on test {test} result: '{translation}'\")\n",
    "        else:\n",
    "            if translation == test[1]:\n",
    "                print(f\"Succes on test {test} result: '{translation}'\")\n",
    "            else:\n",
    "                print(f\"Error on test {test} attempt: '{translation}'\")"
   ]
  },
  {
   "attachments": {},
   "cell_type": "markdown",
   "metadata": {},
   "source": [
    "### SSL Error by trying with this source: [How to translate text with python](https://medium.com/analytics-vidhya/how-to-translate-text-with-python-9d203139dcf5)"
   ]
  },
  {
   "cell_type": "code",
   "execution_count": 2,
   "metadata": {},
   "outputs": [],
   "source": [
    "# from deep_translator import GoogleTranslator, PonsTranslator, LingueeTranslator, MyMemoryTranslator\n",
    "# to_translate = 'I want to translate this text'\n",
    "# translated = GoogleTranslator(source='auto', target='de').translate(to_translate)\n",
    "# # outpout -> Ich möchte diesen Text übersetzen\n",
    "\n",
    "# # SSLError: HTTPSConnectionPool(host='translate.google.com', port=443): Max retries exceeded with url: /m?tl=de&sl=auto&q=I+want+to+translate+this+text (Caused by SSLError(SSLCertVerificationError(1, '[SSL: CERTIFICATE_VERIFY_FAILED] certificate verify failed: unable to get local issuer certificate (_ssl.c:997)')))"
   ]
  },
  {
   "attachments": {},
   "cell_type": "markdown",
   "metadata": {},
   "source": [
    "## Offline Translation attempt"
   ]
  },
  {
   "attachments": {},
   "cell_type": "markdown",
   "metadata": {},
   "source": [
    "### argostranslate - [GitHub Repo](https://github.com/argosopentech/argos-translate)"
   ]
  },
  {
   "cell_type": "code",
   "execution_count": 3,
   "metadata": {},
   "outputs": [],
   "source": [
    "import argostranslate.package\n",
    "import argostranslate.translate\n",
    "\n",
    "from_code = \"es\"\n",
    "to_code = \"en\"\n",
    "\n",
    "# Download and install Argos Translate package\n",
    "argostranslate.package.update_package_index()\n",
    "available_packages = argostranslate.package.get_available_packages()\n",
    "package_to_install = next(\n",
    "    filter(\n",
    "        lambda x: x.from_code == from_code and x.to_code == to_code, available_packages\n",
    "    )\n",
    ")\n",
    "argostranslate.package.install_from_path(package_to_install.download())"
   ]
  },
  {
   "cell_type": "code",
   "execution_count": 4,
   "metadata": {},
   "outputs": [
    {
     "name": "stdout",
     "output_type": "stream",
     "text": [
      "Hello, World!\n"
     ]
    }
   ],
   "source": [
    "# Translate\n",
    "translatedText = argostranslate.translate.translate(\"¡Hola Mundo!\", from_code, to_code)\n",
    "print(translatedText)\n",
    "# 'Hello, World!'"
   ]
  },
  {
   "cell_type": "code",
   "execution_count": 5,
   "metadata": {},
   "outputs": [
    {
     "name": "stdout",
     "output_type": "stream",
     "text": [
      "Succes on test ('pan', 'bread') result: 'bread'\n",
      "Succes on test ('morado', 'purple') result: 'purple'\n",
      "Succes on test ('policia', 'police') result: 'police'\n",
      "Succes on test ('cometa', 'kite') result: 'kite'\n",
      "Succes on test ('pasta de dientes', 'toothpaste') result: 'toothpaste'\n"
     ]
    }
   ],
   "source": [
    "word_test = [('pan', 'bread'),('morado', 'purple'),('policia', 'police'),('cometa', 'kite'),('pasta de dientes', 'toothpaste')]\n",
    "word_translation = [argostranslate.translate.translate(x[0], from_code, to_code) for x in word_test]\n",
    "\n",
    "test_translation(word_test, word_translation)"
   ]
  },
  {
   "cell_type": "code",
   "execution_count": 8,
   "metadata": {},
   "outputs": [
    {
     "name": "stdout",
     "output_type": "stream",
     "text": [
      "Succes on test ('Eso no es para mí', \"That's not for me\") result: 'That's not for me.'\n",
      "Succes on test ('Los coches rojos están detrás de mí ', 'The red cars are behind me') result: 'The red cars are behind me'\n",
      "Different result on test ('El agua está muy caliente', \"The water's very hot\") result: 'The water is very hot'\n",
      "Succes on test ('No te pongas esa corbata', \"Don't wear that tie\") result: 'Don't wear that tie.'\n",
      "Succes on test ('Poca gente tiene lo que tú tienes', 'Few people have what you have') result: 'Few people have what you have'\n"
     ]
    }
   ],
   "source": [
    "phrase_test = [('Eso no es para mí', \"That's not for me\"), ('Los coches rojos están detrás de mí ', \"The red cars are behind me\"), ('El agua está muy caliente', \"The water's very hot\"), ('No te pongas esa corbata', \"Don't wear that tie\"), ('Poca gente tiene lo que tú tienes', \"Few people have what you have\")]\n",
    "phrase_translation = [argostranslate.translate.translate(x[0], from_code, to_code) for x in phrase_test]\n",
    "\n",
    "test_translation(phrase_test, phrase_translation)"
   ]
  }
 ],
 "metadata": {
  "kernelspec": {
   "display_name": "venv",
   "language": "python",
   "name": "python3"
  },
  "language_info": {
   "codemirror_mode": {
    "name": "ipython",
    "version": 3
   },
   "file_extension": ".py",
   "mimetype": "text/x-python",
   "name": "python",
   "nbconvert_exporter": "python",
   "pygments_lexer": "ipython3",
   "version": "3.10.5"
  },
  "orig_nbformat": 4
 },
 "nbformat": 4,
 "nbformat_minor": 2
}
