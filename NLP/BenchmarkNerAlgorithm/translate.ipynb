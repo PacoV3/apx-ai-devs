{
 "cells": [
  {
   "attachments": {},
   "cell_type": "markdown",
   "metadata": {},
   "source": [
    "Main sources: [How to translate text with python](https://medium.com/analytics-vidhya/how-to-translate-text-with-python-9d203139dcf5)"
   ]
  },
  {
   "cell_type": "code",
   "execution_count": null,
   "metadata": {},
   "outputs": [],
   "source": [
    "from deep_translator import GoogleTranslator, PonsTranslator, LingueeTranslator, MyMemoryTranslator"
   ]
  },
  {
   "cell_type": "code",
   "execution_count": null,
   "metadata": {},
   "outputs": [],
   "source": [
    "# to_translate = 'I want to translate this text'\n",
    "# translated = GoogleTranslator(source='auto', target='de').translate(to_translate)\n",
    "# # outpout -> Ich möchte diesen Text übersetzen\n",
    "\n",
    "proxies_example = {\n",
    "    \"https\": \"34.195.196.27:8080\",\n",
    "    \"http\": \"34.195.196.27:8080\"\n",
    "}\n",
    "translated = GoogleTranslator(source='auto', target='de', proxies=proxies_example).translate(\"keep it up, you are awesome\")  # output -> Weiter so, du bist großartig"
   ]
  },
  {
   "cell_type": "code",
   "execution_count": null,
   "metadata": {},
   "outputs": [],
   "source": [
    "word = 'good'\n",
    "translated_word = PonsTranslator(source='english', target='french').translate(word, return_all=False)\n",
    "# output: bien\n",
    "\n",
    "word = 'good'\n",
    "translated_word = PonsTranslator(source='english', target='french').translate(word, return_all=True)\n",
    "# output: list of all synonymes and suggestions"
   ]
  }
 ],
 "metadata": {
  "kernelspec": {
   "display_name": "venv",
   "language": "python",
   "name": "python3"
  },
  "language_info": {
   "codemirror_mode": {
    "name": "ipython",
    "version": 3
   },
   "file_extension": ".py",
   "mimetype": "text/x-python",
   "name": "python",
   "nbconvert_exporter": "python",
   "pygments_lexer": "ipython3",
   "version": "3.8.10"
  },
  "orig_nbformat": 4
 },
 "nbformat": 4,
 "nbformat_minor": 2
}
