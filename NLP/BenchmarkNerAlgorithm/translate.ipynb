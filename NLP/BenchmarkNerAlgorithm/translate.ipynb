{
 "cells": [
  {
   "attachments": {},
   "cell_type": "markdown",
   "metadata": {},
   "source": [
    "# Notebook for text translation using Python "
   ]
  },
  {
   "attachments": {},
   "cell_type": "markdown",
   "metadata": {},
   "source": [
    "## Test Dataset"
   ]
  },
  {
   "attachments": {},
   "cell_type": "markdown",
   "metadata": {},
   "source": [
    "| Spanish Word | English Translation |\n",
    "| --- | --- |\t\n",
    "| pan | bread |\n",
    "| morado | purple |\n",
    "| policia | police |\n",
    "| cometa | kite |\n",
    "| pasta de dientes | toothpaste |"
   ]
  },
  {
   "attachments": {},
   "cell_type": "markdown",
   "metadata": {},
   "source": [
    "| Spanish Phrase | English Translation |\n",
    "| --- | --- |\t\n",
    "| Eso no es para mí | That’s not for me |\n",
    "| Los coches rojos están detrás de mí | The red cars are behind me |\n",
    "| El agua está muy caliente | The water’s very hot |\n",
    "| No te pongas esa corbata | Don’t wear that tie |\n",
    "| Poca gente tiene lo que tú tienes | Few people have what you have |"
   ]
  },
  {
   "cell_type": "code",
   "execution_count": 1,
   "metadata": {},
   "outputs": [],
   "source": [
    "word_test = [('pan', 'bread'),('morado', 'purple'),('policia', 'police'),('cometa', 'kite'),('pasta de dientes', 'toothpaste')]\n",
    "phrase_test = [('Eso no es para mí', \"That's not for me\"), ('Los coches rojos están detrás de mí ', \"The red cars are behind me\"), ('El agua está muy caliente', \"The water's very hot\"), ('No te pongas esa corbata', \"Don't wear that tie\"), ('Poca gente tiene lo que tú tienes', \"Few people have what you have\")]"
   ]
  },
  {
   "cell_type": "code",
   "execution_count": 2,
   "metadata": {},
   "outputs": [],
   "source": [
    "from typing import Tuple, List\n",
    "from nltk.translate.bleu_score import sentence_bleu\n",
    "\n",
    "def test_translation(dataset: Tuple[str], translation_results: List[str]):\n",
    "    for test, translation in zip(dataset, translation_results):\n",
    "        format_translation = translation.replace('.','')\n",
    "        reference = [format_translation.lower().split()]\n",
    "        hypothesis = test[1].lower().split()\n",
    "        if len(translation.split()) > 1:\n",
    "            score = sentence_bleu(reference, hypothesis)\n",
    "            print(f'BLEU Score of: {score} - For test: {test} - Translation: {format_translation}')\n",
    "        else:\n",
    "            if translation == test[1]:\n",
    "                print(f\"Succes on test: {test} Translation: '{format_translation}'\")\n",
    "            else:\n",
    "                print(f\"Error on test: {test} Translation: '{format_translation}'\")"
   ]
  },
  {
   "attachments": {},
   "cell_type": "markdown",
   "metadata": {},
   "source": [
    "### On Apex: SSL Error by trying with this source: [How to translate text with python](https://medium.com/analytics-vidhya/how-to-translate-text-with-python-9d203139dcf5)\n",
    "\n",
    "```python\n",
    "# SSLError: HTTPSConnectionPool(host='translate.google.com', port=443): Max retries exceeded with url: /m?tl=de&sl=auto&q=I+want+to+translate+this+text (Caused by SSLError(SSLCertVerificationError(1, '[SSL: CERTIFICATE_VERIFY_FAILED] certificate verify failed: unable to get local issuer certificate (_ssl.c:997)')))\n",
    "```"
   ]
  },
  {
   "cell_type": "code",
   "execution_count": 3,
   "metadata": {},
   "outputs": [],
   "source": [
    "from deep_translator import GoogleTranslator, LingueeTranslator, MyMemoryTranslator"
   ]
  },
  {
   "cell_type": "code",
   "execution_count": 4,
   "metadata": {},
   "outputs": [
    {
     "name": "stdout",
     "output_type": "stream",
     "text": [
      "BLEU Score of: 1.0 - For test: ('Eso no es para mí', \"That's not for me\") - Translation: That's not for me\n",
      "BLEU Score of: 1.0 - For test: ('Los coches rojos están detrás de mí ', 'The red cars are behind me') - Translation: The red cars are behind me\n",
      "BLEU Score of: 8.214546595247418e-155 - For test: ('El agua está muy caliente', \"The water's very hot\") - Translation: the water is very hot\n",
      "BLEU Score of: 1.0 - For test: ('No te pongas esa corbata', \"Don't wear that tie\") - Translation: don't wear that tie\n",
      "BLEU Score of: 1.0 - For test: ('Poca gente tiene lo que tú tienes', 'Few people have what you have') - Translation: Few people have what you have\n"
     ]
    },
    {
     "name": "stderr",
     "output_type": "stream",
     "text": [
      "/home/pacobuntuwsl2/repos/apx-ai-devs/venv/lib/python3.8/site-packages/nltk/translate/bleu_score.py:552: UserWarning: \n",
      "The hypothesis contains 0 counts of 3-gram overlaps.\n",
      "Therefore the BLEU score evaluates to 0, independently of\n",
      "how many N-gram overlaps of lower order it contains.\n",
      "Consider using lower n-gram order or use SmoothingFunction()\n",
      "  warnings.warn(_msg)\n",
      "/home/pacobuntuwsl2/repos/apx-ai-devs/venv/lib/python3.8/site-packages/nltk/translate/bleu_score.py:552: UserWarning: \n",
      "The hypothesis contains 0 counts of 4-gram overlaps.\n",
      "Therefore the BLEU score evaluates to 0, independently of\n",
      "how many N-gram overlaps of lower order it contains.\n",
      "Consider using lower n-gram order or use SmoothingFunction()\n",
      "  warnings.warn(_msg)\n"
     ]
    }
   ],
   "source": [
    "test_translation(phrase_test, [GoogleTranslator(source='es', target='en').translate(x[0]) for x in phrase_test])"
   ]
  },
  {
   "cell_type": "code",
   "execution_count": 5,
   "metadata": {},
   "outputs": [
    {
     "name": "stdout",
     "output_type": "stream",
     "text": [
      "BLEU Score of: 0 - For test: ('Eso no es para mí', \"That's not for me\") - Translation: What a pity this season\n",
      "BLEU Score of: 1.0 - For test: ('Los coches rojos están detrás de mí ', 'The red cars are behind me') - Translation: The red cars are behind me\n",
      "BLEU Score of: 1.5319719891192393e-231 - For test: ('El agua está muy caliente', \"The water's very hot\") - Translation: The water is hot\n",
      "BLEU Score of: 1.0 - For test: ('No te pongas esa corbata', \"Don't wear that tie\") - Translation: Don't wear that tie\n",
      "BLEU Score of: 1.0 - For test: ('Poca gente tiene lo que tú tienes', 'Few people have what you have') - Translation: Few people have what you have\n"
     ]
    },
    {
     "name": "stderr",
     "output_type": "stream",
     "text": [
      "/home/pacobuntuwsl2/repos/apx-ai-devs/venv/lib/python3.8/site-packages/nltk/translate/bleu_score.py:552: UserWarning: \n",
      "The hypothesis contains 0 counts of 2-gram overlaps.\n",
      "Therefore the BLEU score evaluates to 0, independently of\n",
      "how many N-gram overlaps of lower order it contains.\n",
      "Consider using lower n-gram order or use SmoothingFunction()\n",
      "  warnings.warn(_msg)\n"
     ]
    }
   ],
   "source": [
    "test_translation(phrase_test, [MyMemoryTranslator(source='es', target='en').translate(x[0]) for x in phrase_test])"
   ]
  },
  {
   "attachments": {},
   "cell_type": "markdown",
   "metadata": {},
   "source": [
    "## Offline Translation attempt"
   ]
  },
  {
   "attachments": {},
   "cell_type": "markdown",
   "metadata": {},
   "source": [
    "### argostranslate - [GitHub Repo](https://github.com/argosopentech/argos-translate)"
   ]
  },
  {
   "cell_type": "code",
   "execution_count": 6,
   "metadata": {},
   "outputs": [],
   "source": [
    "import argostranslate.package\n",
    "import argostranslate.translate\n",
    "\n",
    "from_code = \"es\"\n",
    "to_code = \"en\"\n",
    "\n",
    "# Download and install Argos Translate package\n",
    "argostranslate.package.update_package_index()\n",
    "available_packages = argostranslate.package.get_available_packages()\n",
    "package_to_install = next(\n",
    "    filter(\n",
    "        lambda x: x.from_code == from_code and x.to_code == to_code, available_packages\n",
    "    )\n",
    ")\n",
    "argostranslate.package.install_from_path(package_to_install.download())"
   ]
  },
  {
   "cell_type": "code",
   "execution_count": 7,
   "metadata": {},
   "outputs": [
    {
     "name": "stdout",
     "output_type": "stream",
     "text": [
      "Hello, World!\n"
     ]
    }
   ],
   "source": [
    "# Translate\n",
    "translatedText = argostranslate.translate.translate(\"¡Hola Mundo!\", from_code, to_code)\n",
    "print(translatedText)\n",
    "# 'Hello, World!'"
   ]
  },
  {
   "cell_type": "code",
   "execution_count": 8,
   "metadata": {},
   "outputs": [
    {
     "name": "stdout",
     "output_type": "stream",
     "text": [
      "Succes on test: ('pan', 'bread') Translation: 'bread'\n",
      "Succes on test: ('morado', 'purple') Translation: 'purple'\n",
      "Succes on test: ('policia', 'police') Translation: 'police'\n",
      "Succes on test: ('cometa', 'kite') Translation: 'kite'\n",
      "Succes on test: ('pasta de dientes', 'toothpaste') Translation: 'toothpaste'\n"
     ]
    }
   ],
   "source": [
    "test_translation(word_test, [argostranslate.translate.translate(x[0], from_code, to_code) for x in word_test])"
   ]
  },
  {
   "cell_type": "code",
   "execution_count": 9,
   "metadata": {},
   "outputs": [
    {
     "name": "stdout",
     "output_type": "stream",
     "text": [
      "BLEU Score of: 1.0 - For test: ('Eso no es para mí', \"That's not for me\") - Translation: That's not for me\n",
      "BLEU Score of: 1.0 - For test: ('Los coches rojos están detrás de mí ', 'The red cars are behind me') - Translation: The red cars are behind me\n",
      "BLEU Score of: 8.214546595247418e-155 - For test: ('El agua está muy caliente', \"The water's very hot\") - Translation: The water is very hot\n",
      "BLEU Score of: 1.0 - For test: ('No te pongas esa corbata', \"Don't wear that tie\") - Translation: Don't wear that tie\n",
      "BLEU Score of: 1.0 - For test: ('Poca gente tiene lo que tú tienes', 'Few people have what you have') - Translation: Few people have what you have\n"
     ]
    },
    {
     "name": "stderr",
     "output_type": "stream",
     "text": [
      "/home/pacobuntuwsl2/repos/apx-ai-devs/venv/lib/python3.8/site-packages/nltk/translate/bleu_score.py:552: UserWarning: \n",
      "The hypothesis contains 0 counts of 3-gram overlaps.\n",
      "Therefore the BLEU score evaluates to 0, independently of\n",
      "how many N-gram overlaps of lower order it contains.\n",
      "Consider using lower n-gram order or use SmoothingFunction()\n",
      "  warnings.warn(_msg)\n",
      "/home/pacobuntuwsl2/repos/apx-ai-devs/venv/lib/python3.8/site-packages/nltk/translate/bleu_score.py:552: UserWarning: \n",
      "The hypothesis contains 0 counts of 4-gram overlaps.\n",
      "Therefore the BLEU score evaluates to 0, independently of\n",
      "how many N-gram overlaps of lower order it contains.\n",
      "Consider using lower n-gram order or use SmoothingFunction()\n",
      "  warnings.warn(_msg)\n"
     ]
    }
   ],
   "source": [
    "test_translation(phrase_test, [argostranslate.translate.translate(x[0], from_code, to_code) for x in phrase_test])"
   ]
  }
 ],
 "metadata": {
  "kernelspec": {
   "display_name": "venv",
   "language": "python",
   "name": "python3"
  },
  "language_info": {
   "codemirror_mode": {
    "name": "ipython",
    "version": 3
   },
   "file_extension": ".py",
   "mimetype": "text/x-python",
   "name": "python",
   "nbconvert_exporter": "python",
   "pygments_lexer": "ipython3",
   "version": "3.8.10"
  },
  "orig_nbformat": 4
 },
 "nbformat": 4,
 "nbformat_minor": 2
}
